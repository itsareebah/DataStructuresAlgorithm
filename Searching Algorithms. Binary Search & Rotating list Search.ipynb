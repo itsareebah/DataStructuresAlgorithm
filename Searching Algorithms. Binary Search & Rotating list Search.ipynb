{
 "cells": [
  {
   "cell_type": "markdown",
   "id": "313417e4",
   "metadata": {},
   "source": [
    "#### Test Cases"
   ]
  },
  {
   "cell_type": "code",
   "execution_count": 1,
   "id": "76151112",
   "metadata": {},
   "outputs": [],
   "source": [
    "test = [{'input': {'cards': [13, 11, 10, 7, 4, 3, 1, 0], 'val': 7}, 'output': 3},\n",
    "     {'input': {'cards': [13, 11, 10, 7, 4, 3, 1, 0], 'val': 1}, 'output': 6},\n",
    "     {'input': {'cards': [4, 2, 1, -1], 'val': 4}, 'output': 0},\n",
    "     {'input': {'cards': [3, -1, -9, -127], 'val': -127}, 'output': 3},\n",
    "     {'input': {'cards': [6], 'val': 6}, 'output': 0},\n",
    "     {'input': {'cards': [9, 7, 5, 2, -9], 'val': 4}, 'output': -1},\n",
    "     {'input': {'cards': [], 'val': 7}, 'output': -1},\n",
    "     {'input': {'cards': [8, 8, 6, 6, 6, 6, 6, 3, 2, 2, 2, 0, 0, 0], 'val': 3}, 'output': 7},\n",
    "     {'input': {'cards': [8, 8, 6, 6, 6, 6, 6, 6, 3, 2, 2, 2, 0, 0, 0], 'val': 6}, 'output': 2}]"
   ]
  },
  {
   "cell_type": "markdown",
   "id": "773af866",
   "metadata": {},
   "source": [
    "### Linear Search Algorithm"
   ]
  },
  {
   "cell_type": "code",
   "execution_count": 2,
   "id": "ebcd88ea",
   "metadata": {},
   "outputs": [],
   "source": [
    "def linearSearch(cards, val):\n",
    "    index = 0\n",
    "    while index < len(cards):\n",
    "        if cards[index] == val:\n",
    "            return index\n",
    "        index += 1\n",
    "    return -1"
   ]
  },
  {
   "cell_type": "code",
   "execution_count": 3,
   "id": "50da7ae9",
   "metadata": {},
   "outputs": [
    {
     "name": "stdout",
     "output_type": "stream",
     "text": [
      "[1, 1, 1, 1, 1, 1, 1, 1, 1]\n"
     ]
    }
   ],
   "source": [
    "results = []\n",
    "for i in test:\n",
    "    results.append(1 if ((linearSearch(i['input']['cards'], i['input']['val'])) == i['output']) else 0)\n",
    "print(results)"
   ]
  },
  {
   "cell_type": "markdown",
   "id": "e34aa859",
   "metadata": {},
   "source": [
    "### Binary Search Algorithm"
   ]
  },
  {
   "cell_type": "code",
   "execution_count": 4,
   "id": "e552391a",
   "metadata": {},
   "outputs": [],
   "source": [
    "def binarySearch(cards, val):\n",
    "    start, end = 0, len(cards) - 1\n",
    "    while start <= end:\n",
    "        mid = (start + end ) // 2\n",
    "        if cards[mid] == val:\n",
    "            return mid\n",
    "        elif val < cards[mid]:\n",
    "            start = mid + 1\n",
    "        elif val > cards[mid]:\n",
    "            end = mid - 1\n",
    "    return -1"
   ]
  },
  {
   "cell_type": "code",
   "execution_count": 5,
   "id": "eb4cba5e",
   "metadata": {},
   "outputs": [
    {
     "name": "stdout",
     "output_type": "stream",
     "text": [
      "[1, 1, 1, 1, 1, 1, 1, 1, 0]\n"
     ]
    }
   ],
   "source": [
    "results = []\n",
    "for i in test:\n",
    "    results.append(1 if ((binarySearch(i['input']['cards'], i['input']['val'])) == i['output']) else 0)\n",
    "print(results)"
   ]
  },
  {
   "cell_type": "markdown",
   "id": "e0ccaf77",
   "metadata": {},
   "source": [
    ">As there can be repeating values, we need to find locations too"
   ]
  },
  {
   "cell_type": "code",
   "execution_count": 6,
   "id": "be5fdb2d",
   "metadata": {},
   "outputs": [],
   "source": [
    "def location(cards, val, mid):\n",
    "    if cards[mid] == val:\n",
    "        if mid-1 >= 0 and cards[mid-1] == val:\n",
    "            return 'left'\n",
    "        else:\n",
    "            return 'correct'\n",
    "    elif cards[mid] < val:\n",
    "        return 'left'\n",
    "    else:\n",
    "        return 'right'\n",
    "    \n",
    "def binarySearch2(cards, val):\n",
    "    start, end = 0, len(cards) - 1\n",
    "    while start <= end:\n",
    "        mid = (start + end ) // 2\n",
    "        \n",
    "        if location(cards, val, mid) == 'correct':\n",
    "            return mid\n",
    "        elif location(cards, val, mid) == 'right':\n",
    "            start = mid + 1\n",
    "        elif location(cards, val, mid) == 'left':\n",
    "            end = mid - 1\n",
    "    return -1"
   ]
  },
  {
   "cell_type": "code",
   "execution_count": 7,
   "id": "e429f272",
   "metadata": {},
   "outputs": [
    {
     "name": "stdout",
     "output_type": "stream",
     "text": [
      "[1, 1, 1, 1, 1, 1, 1, 1, 1]\n"
     ]
    }
   ],
   "source": [
    "results = []\n",
    "for i in test:\n",
    "    results.append(1 if ((binarySearch2(i['input']['cards'], i['input']['val'])) == i['output']) else 0)\n",
    "print(results)"
   ]
  },
  {
   "cell_type": "markdown",
   "id": "cf64894d",
   "metadata": {},
   "source": [
    "> Another way to write Binary Search"
   ]
  },
  {
   "cell_type": "code",
   "execution_count": 8,
   "id": "3cf50ebe",
   "metadata": {},
   "outputs": [],
   "source": [
    "def search(cards, val):\n",
    "    def condition(mid):\n",
    "        if cards[mid] == val:\n",
    "            if mid-1 >= 0 and cards[mid-1] == val:\n",
    "                return 'left'\n",
    "            else:\n",
    "                return 'correct'\n",
    "        elif cards[mid] < val:\n",
    "            return 'left'\n",
    "        else:\n",
    "            return 'right'\n",
    "    return binarySearch3(0, len(cards) - 1, condition)\n",
    "        \n",
    "\n",
    "def binarySearch3(start, end, condition):\n",
    "    while start <= end :\n",
    "        mid = (start + end) // 2\n",
    "        if condition(mid) == 'correct' :\n",
    "            return mid\n",
    "        elif condition(mid) == 'right':\n",
    "            start = mid + 1\n",
    "        elif condition(mid) == 'left':\n",
    "            end = mid - 1\n",
    "    return -1"
   ]
  },
  {
   "cell_type": "code",
   "execution_count": 9,
   "id": "c67dc1cb",
   "metadata": {},
   "outputs": [
    {
     "name": "stdout",
     "output_type": "stream",
     "text": [
      "[1, 1, 1, 1, 1, 1, 1, 1, 1]\n"
     ]
    }
   ],
   "source": [
    "results = []\n",
    "for i in test:\n",
    "    results.append(1 if ((search(i['input']['cards'], i['input']['val'])) == i['output']) else 0)\n",
    "print(results)"
   ]
  },
  {
   "cell_type": "markdown",
   "id": "0ef08ea9",
   "metadata": {},
   "source": [
    "> find starting and ending positions in a sorted array"
   ]
  },
  {
   "cell_type": "code",
   "execution_count": 10,
   "id": "15246e5b",
   "metadata": {},
   "outputs": [],
   "source": [
    "def startLoc(cards, val):\n",
    "    def condition(mid):\n",
    "        if cards[mid] == val:\n",
    "            if mid - 1 >= 0 and cards[mid - 1] == val:\n",
    "                return 'left'\n",
    "            else:\n",
    "                return 'correct'\n",
    "        elif cards[mid] > val:\n",
    "            return 'left'\n",
    "        else:\n",
    "            return 'right'\n",
    "    return binarySearch3(0, len(cards) - 1, condition)\n",
    "\n",
    "def endLoc(cards, val):\n",
    "    def condition(mid):\n",
    "        if cards[mid] == val:\n",
    "            if mid + 1 < len(cards) and cards[mid + 1] == val:\n",
    "                return 'right'\n",
    "            else:\n",
    "                return 'correct'\n",
    "        elif cards[mid] > val:\n",
    "            return 'left'\n",
    "        else:\n",
    "            return 'right'\n",
    "    return binarySearch3(0, len(cards) - 1, condition)\n",
    "\n",
    "def start_and_end(cards, val):\n",
    "    return[startLoc(cards, val), endLoc(cards, val)]"
   ]
  },
  {
   "cell_type": "code",
   "execution_count": 11,
   "id": "ef6945e4",
   "metadata": {},
   "outputs": [
    {
     "name": "stdout",
     "output_type": "stream",
     "text": [
      "[[3, 3], [-1, -1], [-1, -1], [-1, -1], [0, 0], [-1, -1], [-1, -1], [-1, -1], [-1, 7]]\n"
     ]
    }
   ],
   "source": [
    "results = []\n",
    "for i in test:\n",
    "    results.append(start_and_end(i['input']['cards'], i['input']['val']))\n",
    "print(results)"
   ]
  },
  {
   "cell_type": "markdown",
   "id": "efa1c3b3",
   "metadata": {},
   "source": [
    "### Rotated list, find the number of times ascending list is rotated"
   ]
  },
  {
   "cell_type": "code",
   "execution_count": 12,
   "id": "f3f6ddb3",
   "metadata": {},
   "outputs": [],
   "source": [
    "test1 = [{'input': {'nums': [3, 4, 0, 1, 2,]}, 'output': 2},\n",
    "        {'input': {'nums': [5, 6, 9, 0, 2, 3, 4]}, 'output': 3},\n",
    "        {'input': {'nums': [3, 4, 0, 1, 2]}, 'output': 2},\n",
    "        {'input': {'nums': [4]}, 'output': 0},\n",
    "        {'input': {'nums': []}, 'output': 0},\n",
    "        {'input': {'nums': [1, 1]}, 'output': 0},\n",
    "        {'input': {'nums': [2, 1]}, 'output': 1},\n",
    "        {'input': {'nums': [2, 2, 3, 3, 3, 4, 5, 0]}, 'output': 7},\n",
    "        {'input': {'nums': [2, 2, 2, 2, 2, 2, 2, 0]}, 'output': 7},]"
   ]
  },
  {
   "cell_type": "code",
   "execution_count": 13,
   "id": "f757054e",
   "metadata": {},
   "outputs": [],
   "source": [
    "def count_rotations_linear(nums):\n",
    "    pos, count = 0, 0\n",
    "    while pos < len(nums)-1:\n",
    "        if nums[pos] > nums[pos+1]:\n",
    "            count = len(nums[:pos+1])\n",
    "        pos +=1\n",
    "    return count"
   ]
  },
  {
   "cell_type": "code",
   "execution_count": 14,
   "id": "b2e1e293",
   "metadata": {},
   "outputs": [
    {
     "name": "stdout",
     "output_type": "stream",
     "text": [
      "[1, 1, 1, 1, 1, 1, 1, 1, 1]\n"
     ]
    }
   ],
   "source": [
    "results = []\n",
    "for i in test1:\n",
    "    results.append(1 if ((count_rotations_linear(i['input']['nums'])) == i['output']) else 0)\n",
    "print(results)"
   ]
  },
  {
   "cell_type": "code",
   "execution_count": 15,
   "id": "19b87ba4",
   "metadata": {},
   "outputs": [],
   "source": [
    "def count_rotations_binary(nums):\n",
    "    start, end = 0, len(nums) - 1\n",
    "    while start <= end:\n",
    "        if nums[start] < nums[end]:\n",
    "            return 0\n",
    "        mid = (start + end) // 2\n",
    "        if mid>0 and nums[mid] < nums[mid - 1]:\n",
    "            return mid\n",
    "        elif nums[mid] > nums[end]:\n",
    "            start = mid + 1\n",
    "        else:\n",
    "            end = mid - 1\n",
    "    return 0"
   ]
  },
  {
   "cell_type": "code",
   "execution_count": 16,
   "id": "aa499f65",
   "metadata": {},
   "outputs": [
    {
     "name": "stdout",
     "output_type": "stream",
     "text": [
      "[1, 1, 1, 1, 1, 1, 1, 1, 1]\n"
     ]
    }
   ],
   "source": [
    "results = []\n",
    "for i in test1:\n",
    "    results.append(1 if ((count_rotations_binary(i['input']['nums'])) == i['output']) else 0)\n",
    "print(results)"
   ]
  },
  {
   "cell_type": "code",
   "execution_count": 17,
   "id": "b7886059",
   "metadata": {},
   "outputs": [],
   "source": [
    "def count_rotations_generic(nums):\n",
    "#     start, end = 0, len(nums)-1\n",
    "    def condition(mid):\n",
    "        if mid > 0 and nums[mid] < nums[mid - 1]:\n",
    "            return 'found'\n",
    "        elif nums[mid] >= nums[len(nums) - 1]:\n",
    "            return 'right'\n",
    "        else:\n",
    "            return 'left'\n",
    "    return binarySearch3(0, len(nums)-1, condition)\n",
    "\n",
    "def binarySearch3(start, end, condition):\n",
    "    while start <= end:\n",
    "        mid = (start + end) // 2\n",
    "        if condition(mid) == 'found' :\n",
    "            return mid\n",
    "        elif condition(mid) == 'right':\n",
    "            start = mid + 1\n",
    "        elif condition(mid) == 'left':\n",
    "            print('here')\n",
    "            end = mid - 1\n",
    "    return 0"
   ]
  },
  {
   "cell_type": "code",
   "execution_count": 18,
   "id": "0e81d742",
   "metadata": {},
   "outputs": [
    {
     "name": "stdout",
     "output_type": "stream",
     "text": [
      "[1, 1, 1, 1, 1, 1, 1, 1, 1]\n"
     ]
    }
   ],
   "source": [
    "results = []\n",
    "for i in test1:\n",
    "    results.append(1 if ((count_rotations_generic(i['input']['nums'])) == i['output']) else 0)\n",
    "print(results)"
   ]
  },
  {
   "cell_type": "code",
   "execution_count": 3,
   "id": "72a1d0ae",
   "metadata": {},
   "outputs": [],
   "source": [
    "test2 = [{'input': {'nums': [3, 4, 0, 1, 2], 'val': 4}, 'output': 1},\n",
    "        {'input': {'nums': [5, 6, 9, 0, 2, 3, 4], 'val': 2}, 'output': 4},\n",
    "        {'input': {'nums': [3, 4, 0, 1, 2], 'val': 0}, 'output': 2},\n",
    "        {'input': {'nums': [4], 'val': 0}, 'output': -1},\n",
    "        {'input': {'nums': [], 'val': 4}, 'output': -1},\n",
    "        {'input': {'nums': [1, 1], 'val': 1}, 'output': 0},\n",
    "        {'input': {'nums': [2, 1], 'val': 1}, 'output': 1},\n",
    "        {'input': {'nums': [2, 2, 3, 3, 3, 4, 5, 0], 'val': 3}, 'output': 2},\n",
    "        {'input': {'nums': [2, 2, 2, 2, 2, 2, 2, 0], 'val': 2}, 'output': 0},]"
   ]
  },
  {
   "cell_type": "code",
   "execution_count": 6,
   "id": "5e92f0b9",
   "metadata": {},
   "outputs": [],
   "source": [
    "def find_element(nums, val):\n",
    "    def pivot():\n",
    "        start, end = 0, len(nums) - 1\n",
    "        if nums[start] <= nums[end]:\n",
    "            return 0\n",
    "        while start <= end:\n",
    "            mid = (start + end) // 2\n",
    "            if mid>0 and nums[mid] < nums[mid - 1]:\n",
    "                return mid\n",
    "            elif nums[mid] > nums[end]:\n",
    "                start = mid + 1\n",
    "            else:\n",
    "                end = mid - 1\n",
    "        return 0\n",
    "    \n",
    "    def binarySearch3(start, end):\n",
    "        if nums == []:\n",
    "            return -1\n",
    "        piv = pivot()\n",
    "        if val >= nums[piv] and val <= nums[-1]:\n",
    "            start, end = piv, len(nums)-1\n",
    "        else:\n",
    "            start, end = 0, piv - 1\n",
    "        while start <= end :\n",
    "            mid = (start + end) // 2\n",
    "            if condition(mid) == 'correct' :\n",
    "                return mid\n",
    "            elif condition(mid) == 'right':\n",
    "                start = mid + 1\n",
    "            elif condition(mid) == 'left':\n",
    "                end = mid - 1\n",
    "        return -1\n",
    "    def condition(mid):\n",
    "        if nums[mid] == val:\n",
    "            if mid-1 >= 0 and nums[mid-1] == val:\n",
    "                return 'left'\n",
    "            else:\n",
    "                return 'correct'\n",
    "        elif nums[mid] > val:\n",
    "            return 'left'\n",
    "        else:\n",
    "            return 'right'\n",
    "    return binarySearch3(0, len(nums) - 1)"
   ]
  },
  {
   "cell_type": "code",
   "execution_count": 7,
   "id": "6cb68927",
   "metadata": {},
   "outputs": [
    {
     "name": "stdout",
     "output_type": "stream",
     "text": [
      "[1, 1, 1, 1, 1, 1, 1, 1, 1]\n"
     ]
    }
   ],
   "source": [
    "results = []\n",
    "for i in test2:\n",
    "    results.append(1 if ((find_element(i['input']['nums'], i['input']['val'])) == i['output']) else 0)\n",
    "print(results)\n"
   ]
  }
 ],
 "metadata": {
  "kernelspec": {
   "display_name": "Python 3 (ipykernel)",
   "language": "python",
   "name": "python3"
  },
  "language_info": {
   "codemirror_mode": {
    "name": "ipython",
    "version": 3
   },
   "file_extension": ".py",
   "mimetype": "text/x-python",
   "name": "python",
   "nbconvert_exporter": "python",
   "pygments_lexer": "ipython3",
   "version": "3.9.13"
  }
 },
 "nbformat": 4,
 "nbformat_minor": 5
}
